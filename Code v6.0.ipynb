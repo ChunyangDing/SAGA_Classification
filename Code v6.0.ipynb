{
 "cells": [
  {
   "cell_type": "code",
   "execution_count": 1,
   "metadata": {
    "collapsed": false
   },
   "outputs": [],
   "source": [
    "%matplotlib inline\n",
    "from astropy.io import fits\n",
    "import matplotlib.pyplot as plt\n",
    "import numpy as np\n",
    "from scipy import stats\n",
    "from scipy import optimize\n",
    "import random\n",
    "import time\n",
    "from scipy.stats.distributions import  t\n",
    "from math import isnan\n",
    "import os \n",
    "import itertools\n",
    "\n",
    "#os.chdir('..')\n",
    "PARENT = os.getcwd()\n",
    "\n",
    "DATA_FOLDER = PARENT + \"\\data\\\\\"\n",
    "CLASS_FOLDER = PARENT + \"\\classification\\\\\"\n",
    "DIAG_FOLDER = PARENT + \"\\diagonostics\\\\\"\n",
    "\n",
    "\n",
    "#Step 0: Define basic gaussian functions\n",
    "def gauss(x, sigma, A, mu): #Basic gaussian model. theta[0] = sigma, theta[1] = A, theta[2] = mu\n",
    "    if sigma < 0:\n",
    "        return 0*x\n",
    "    coef = 1 / (sigma * np.sqrt(2 * np.pi))\n",
    "    return A * coef * np.exp(-((x - mu) ** 2)/(2 * sigma ** 2))\n",
    "\n",
    "def gaussConst(x, sigma, A, mu, B): #Basic gaussian model. theta[0] = sigma, theta[1] = A, theta[2] = mu, theta[3] = B\n",
    "    if sigma < 0: \n",
    "    #    print x\n",
    "        return 0*x\n",
    "    coef = 1 / (sigma * np.sqrt(2 * np.pi))\n",
    "    return A * coef * np.exp(-((x - mu) ** 2)/(2 * sigma ** 2)) + B\n",
    "\n",
    "def convertAngstromToBin(wavelength, xData):\n",
    "    return np.where(xData == min(xData, key=lambda x:abs(x-wavelength)))[0][0]"
   ]
  },
  {
   "cell_type": "code",
   "execution_count": 2,
   "metadata": {
    "collapsed": false
   },
   "outputs": [],
   "source": [
    "#Step 1: Determine if file is good or not\n",
    "def isQuality(fileNum, zlog):\n",
    "    q = int(zlog[fileNum].split()[6]) #Q = 3, 4 is acceptable. 1, 2 is not.\n",
    "    return q >= 3\n",
    "\n",
    "#Step 2: Find a list of possible line locations and then return the redshifted lines\n",
    "def getVisibleLines(z):\n",
    "    #Major Absorption lines\n",
    "    HBETA = 4862.69\n",
    "    CaIIK = 3934.78\n",
    "    Mg = 5174.13\n",
    "    Na = 5891.58\n",
    "    \n",
    "    #Major emission lines\n",
    "    OII = 3726.03\n",
    "    OIII = 4958.92\n",
    "    HALPHA = 6562.80\n",
    "    \n",
    "    #Concatenated list of lines\n",
    "    #allLines = [OII, CaIIK, HBETA, OIII, Mg, Na, HALPHA]\n",
    "    allLines = [HALPHA, HBETA, OII, OIII, CaIIK, Mg, Na]\n",
    "    \n",
    "    numTest = 0\n",
    "    numEmi = 0\n",
    "    numAbs = 0\n",
    "    index = 0\n",
    "    \n",
    "    goodLines = []\n",
    "    #Checks if each line is within the allowed range. If not, the line is removed\n",
    "    for line in allLines:\n",
    "        if not ((line + z * line) < 4000 or (line + z * line) > 8500):\n",
    "            goodLines.append(line)\n",
    "            \n",
    "            if index > 3:\n",
    "                numAbs += 1\n",
    "            elif index > 1:\n",
    "                numEmi += 1\n",
    "            else:\n",
    "                numTest += 1\n",
    "        index += 1\n",
    "    \n",
    "    if not goodLines:\n",
    "        return [[-1]] #Condition to check if list is empty, ie, z makes so that no lines can be detected.\n",
    "    else:\n",
    "        return [goodLines, numTest, numEmi, numAbs]\n",
    "\n",
    "def getShiftLines(fileNum, zlog):\n",
    "    z = float(zlog[fileNum].split()[4]) #z from zlog\n",
    "    usedLines = getVisibleLines(z) #Gets all of the visible lines\n",
    "    #print usedLines\n",
    "    if usedLines[0][0] == -1: #Checks if there are no valid lines\n",
    "        return [-1] #Returns a invalid symbol\n",
    "    else:\n",
    "        allShiftedLines = []\n",
    "        for line in usedLines[0]:\n",
    "            allShiftedLines.append(line + z * line) #Redshift formula, shifts each valid line\n",
    "        #print z\n",
    "        #print allShiftedLines\n",
    "        return [allShiftedLines, usedLines[1], usedLines[2], usedLines[3]] #Returns all of the lines."
   ]
  },
  {
   "cell_type": "code",
   "execution_count": 3,
   "metadata": {
    "collapsed": false
   },
   "outputs": [],
   "source": [
    "#Step 4 through 7: Given a line area, find the peak in the actual data.\n",
    "\n",
    "#Essentially step 4. \n",
    "def getPeak(fileNum, data, zlog, line):\n",
    "    \n",
    "    #Gets all of the data\n",
    "    wavelength =data[0]\n",
    "    flux = data[1]\n",
    "    sig = data[2]\n",
    "\n",
    "    left = min(wavelength, key=lambda x:abs(x-(line - 10))) #scans \\pm 12 Angstrom region for peak\n",
    "    right = min(wavelength, key=lambda x:abs(x-(line + 10)))\n",
    "\n",
    "    #print \"Line: \" + str(line)\n",
    "\n",
    "    #Checks edge conditions and adjust accordingly\n",
    "    if line < wavelength[0 + 100]:\n",
    "        left = wavelength[0]\n",
    "    if line > wavelength[len(wavelength) - 100]:\n",
    "        right = wavelength[len(wavelength) - 1] \n",
    "\n",
    "    #Gets the code location of the bounds\n",
    "    lb = np.where(wavelength == left)[0][0]\n",
    "    rb = np.where(wavelength == right)[0][0]\n",
    "    \n",
    "    #Gets the code location of the peak - Steps 5, 6\n",
    "    averageFlux = np.mean(flux[lb-30:rb+30]) #Creates a baseline\n",
    "    var = np.abs(flux - averageFlux) #Looks for differences to the baseline, in abs. \n",
    "    #print var\n",
    "    peakLoc = np.where(var == max(var[lb:rb]))[0][0] #Finds the biggest dip or peak\n",
    "    \n",
    "    maxDeltaFlux = np.abs(var[peakLoc] - var[peakLoc + 1])\n",
    "    \n",
    "    halfWindow = 0\n",
    "    #deltaFlux = np.abs(var[peakLoc] - var[peakLoc + 1])\n",
    "    \n",
    "    #while deltaFlux > maxDeltaFlux * 0.1 and halfWindow < 20 and peakLoc + halfWindow + 1 < len(var):\n",
    "    #    halfWindow += 1\n",
    "    #   deltaFlux = np.abs(var[peakLoc + halfWindow] - var[peakLoc + halfWindow + 1])\n",
    "     \n",
    "    while var[peakLoc + halfWindow] > var[peakLoc] * 0.1:\n",
    "        halfWindow += 1\n",
    "    \n",
    "    if (var[peakLoc] < (3 * sig[peakLoc])): #Checks if the peak is greater than 3 sigma above baseline\n",
    "        return [-1, -1] #Returns peakLoc\n",
    "    \n",
    "    if halfWindow < 5:\n",
    "        return [peakLoc, 5]\n",
    "    return [peakLoc, halfWindow] #Currently, just use a 15 angstrom window. Can adjust in future\n",
    "\n",
    "#Specifically, step 7: Selecting the data around the line. \n",
    "def getPeakInfo(data, lineInfo):\n",
    "    #Creating easily accessible data to work with, for each line\n",
    "    peak = lineInfo[0]\n",
    "    scan = lineInfo[1]\n",
    "    data = [data[0][peak - scan:peak + scan], data[1][peak - scan:peak + scan], data[2][peak - scan:peak + scan]]\n",
    "    return data "
   ]
  },
  {
   "cell_type": "code",
   "execution_count": 4,
   "metadata": {
    "collapsed": false
   },
   "outputs": [],
   "source": [
    "#Step 8: Get the gaussian fit of the line, with covariance matrix\n",
    "def get_gauss_theta(data):\n",
    "    xValues = np.array(data[0])\n",
    "    yValues = np.array(data[1])\n",
    "    sigValues = np.array(data[2])\n",
    "    \n",
    "    peak = len(xValues)/2\n",
    "    \n",
    "    #Two separate fitting functions because of initial guesses. Otherwise, optimize.curve_fit will not converge properly\n",
    "    #Try/except blocks put in in case if selected data is over 3 sigma, but still rather bad.\n",
    "    \n",
    "    if yValues[peak] > yValues[0]:\n",
    "        #print \"Peak\"\n",
    "        try:\n",
    "            dummyGauss = optimize.curve_fit(gauss, xValues - xValues[peak], yValues - yValues[0], p0 = [4, 5, 0], maxfev = 5000)[0]\n",
    "        except RuntimeError:\n",
    "            print \"Peak, dummyGauss exception\"\n",
    "            return [[-1, -1, -1, -1], [-1, -1, -1, -1]]\n",
    "        \n",
    "        dummyGauss[2] += xValues[peak]\n",
    "        thetaG1 = np.append(dummyGauss, yValues[0])\n",
    "        \n",
    "        try:\n",
    "            G1, pcov = (optimize.curve_fit(gaussConst, xValues, yValues, p0 = thetaG1, sigma = sigValues, maxfev = 5000))\n",
    "        except RuntimeError:\n",
    "            print \"Peak, GaussConst exception\"\n",
    "            return [[-1, -1, -1, -1], [-1, -1, -1, -1]]\n",
    "                \n",
    "    else:\n",
    "        #print \"Dip\"\n",
    "        try:\n",
    "            dummyGauss = optimize.curve_fit(gauss, xValues - xValues[peak], yValues - yValues[0], p0 = [4, -5, 0], maxfev = 5000)[0]\n",
    "        except RuntimeError:\n",
    "            print \"Dip, Gauss Exception\"\n",
    "            return [[-1, -1, -1, -1], [-1, -1, -1, -1]]\n",
    "        \n",
    "        dummyGauss[2] += xValues[peak]\n",
    "        thetaG1 = np.append(dummyGauss, yValues[0])\n",
    "        \n",
    "        try:\n",
    "            G1, pcov = (optimize.curve_fit(gaussConst, xValues, yValues, p0 = thetaG1, sigma = sigValues, maxfev = 5000))\n",
    "        except RuntimeError:\n",
    "            print \"Dip, GaussConst Exception\"\n",
    "            return [[-1, -1, -1, -1], [-1, -1, -1, -1]]\n",
    "                \n",
    "    return G1, pcov"
   ]
  },
  {
   "cell_type": "code",
   "execution_count": 5,
   "metadata": {
    "collapsed": false
   },
   "outputs": [],
   "source": [
    "#Step 9 - Compute the Chi squared, given the data and the fit parameters\n",
    "def chiSquaredRed(data, fitParams, dof):\n",
    "    xValues = np.array(data[0])\n",
    "    yValues = np.array(data[1])\n",
    "    sigValues = np.array(data[2])\n",
    "    \n",
    "    fittedVals = gaussConst(xValues, fitParams[0], fitParams[1], fitParams[2], fitParams[3])\n",
    "    \n",
    "    chiSq = 0\n",
    "    for i in range(len(yValues)):\n",
    "        #Compute basic chi-squared, taking into account the individual uncertainties\n",
    "        chiSq += ((yValues[i] - fittedVals[i]) ** 2) / (sigValues[i] ** 2)\n",
    "        \n",
    "    return chiSq/float(dof) #return the reduced chi squared, which is the chi squared divided by the degrees of freedom\n",
    "\n",
    "#Step 10: Compute the confidence interval given the covariance matrix\n",
    "def confInterval(params, covar, alpha, dof):\n",
    "    CIList = []\n",
    "    for index in range(len(params)):\n",
    "        #Apply confidence interval formula based on covariance matrix\n",
    "        tval = t.ppf(1.0-alpha/2., dof)\n",
    "        covariance = np.diag(covar)[index]\n",
    "        if np.isinf(covariance):\n",
    "            CIList.append([-1, 1])\n",
    "        else:\n",
    "            region = tval * np.sqrt(np.diag(covar)[index])\n",
    "            #Append information to list\n",
    "            CIList.append([params[index] - region, params[index] + region])\n",
    "    return CIList\n"
   ]
  },
  {
   "cell_type": "code",
   "execution_count": 64,
   "metadata": {
    "collapsed": true
   },
   "outputs": [],
   "source": [
    "def fitPeakDips(fileNum, tr_data0, tr_data1, tr_data2, tr_zlog):   \n",
    "    alpha = 0.1 #Trying out 90% confidence level instead of 95%...\n",
    "    \n",
    "    #Create a list to store all the fits and other information\n",
    "    collectedFits = []\n",
    "    \n",
    "    z = float(tr_zlog[fileNum].split()[4])\n",
    "    \n",
    "    #Step 1: Check if file is good or not\n",
    "    if not isQuality(fileNum, tr_zlog):\n",
    "        #print \"Bad file quality on fileNum \" + str(fileNum)\n",
    "        return [[[-1], -1, -1, [0, 0, 0]]]\n",
    "    \n",
    "    else:\n",
    "        \n",
    "        data = [tr_data0, tr_data1, tr_data2]\n",
    "        \n",
    "        #Step 2 - Get shifted lines\n",
    "        shiftLineInfo = getShiftLines(fileNum, tr_zlog) #Should have something here to customize lines being given...\n",
    "        shiftedLines = shiftLineInfo[0]\n",
    "        #Step 3 - Loop through each of the lines\n",
    "        if len(shiftedLines) == 1 and shiftedLines[0] == -1:\n",
    "            return [[[0], 0, 0, [0, 0, 0]]]\n",
    "        else:\n",
    "            for line in shiftedLines:\n",
    "                if not line == -1:\n",
    "                    #Step 4, 5, 6 - get the code location for the peak near the identified line\n",
    "                    lineInfo = getPeak(fileNum, data, tr_zlog, line)\n",
    "                    #Step 6.5: Check if the peak is missing or not. Append bad if needed. \n",
    "                    if lineInfo[0] == -1:\n",
    "                        #print \"No peak found at line \" + str(line)\n",
    "                        collectedFits.append([[-1, -1, -1, -1], -1, [[-1, 1], [-1, 1], [-1, 1], [-1, 1]], z])\n",
    "                    else:\n",
    "                        #Step 7: Get the range of data as needed\n",
    "                        lineData = getPeakInfo(data, lineInfo)\n",
    "                        dof = len(lineData[0]) - 4\n",
    "                        #Step 8: Get the best theta fit\n",
    "                        theta, covar = get_gauss_theta(lineData)\n",
    "                        if theta[0] == -1:\n",
    "                            collectedFits.append([[-1, -1, -1, -1], -1, [[-1, 1], [-1, 1], [-1, 1], [-1, 1]], z])\n",
    "                        else:\n",
    "                            #Step 9: Compute the reduced chi-squared value\n",
    "                            chiSqRed = chiSquaredRed(lineData, theta, dof)\n",
    "                            #Step 10: Compute the 95% confidence interval\n",
    "                            CI = confInterval(theta, covar, alpha, dof)\n",
    "                            #Step 11: Append to big list and repeat.\n",
    "                            collectedFits.append([theta, chiSqRed, CI, z])\n",
    "        collectedFits.append([[-1, -1, -1, -1], -1, [[-1, 1], [-1, 1], [-1, 1], [-1, 1]], shiftLineInfo[1:], z])\n",
    "    return collectedFits\n"
   ]
  },
  {
   "cell_type": "code",
   "execution_count": 78,
   "metadata": {
    "collapsed": false
   },
   "outputs": [],
   "source": [
    "def MMTDataImport(fits_file, zlog_file):\n",
    "    train = fits.open(DATA_FOLDER + fits_file)\n",
    "    \n",
    "    tr_data0 = train[0].data #Wavelength - Angstrom\n",
    "    tr_data1 = train[1].data #Flux\n",
    "    tr_data2 = train[2].data #Inverse Variance!\n",
    "        \n",
    "    f1 = open(DATA_FOLDER + zlog_file, 'r')\n",
    "    tr_zlog = f1.readlines()\n",
    "    \n",
    "    return tr_data0, tr_data1, tr_data2, tr_zlog\n",
    "\n",
    "def MMTDataClean(all_data, fileNum):\n",
    "    wavelength = all_data[0][fileNum]\n",
    "    flux = all_data[1][fileNum]\n",
    "    inverseVar = all_data[2][fileNum]\n",
    "    tr_zlog = all_data[3]\n",
    "    \n",
    "    for i in range(len(inverseVar)):\n",
    "        if inverseVar[i] == 0:\n",
    "            inverseVar[i] = 1\n",
    "        \n",
    "    return [wavelength, flux, np.sqrt(1/inverseVar), tr_zlog]\n",
    "\n",
    "def AATDataImport(fits_file, zlog_file):\n",
    "    train = fits.open(DATA_FOLDER + fits_file)\n",
    "    \n",
    "    tr_data1 = train[0].data #Flux\n",
    "\n",
    "    coord_val = train[0].header['CRVAL1']\n",
    "    increment = train[0].header['CDELT1']\n",
    "    coord_pix = train[0].header['CRPIX1']\n",
    "    axis1_length = train[0].header['NAXIS1']\n",
    "    start_val = coord_val - increment * coord_pix\n",
    "    end_val = start_val + increment * axis1_length \n",
    "    wavelength = np.arange(start_val, end_val - increment, increment)\n",
    "    \n",
    "    tr_data0 = list(itertools.repeat(wavelength, len(tr_data1))) #Wavelength - Angstrom\n",
    "    tr_data2 = train[1].data #Variance!\n",
    "    \n",
    "    f1 = open(DATA_FOLDER + zlog_file, 'r')\n",
    "    tr_zlog = f1.readlines()\n",
    "    \n",
    "    return tr_data0, tr_data1, tr_data2, tr_zlog\n",
    "\n",
    "def AATDataClean(all_data, fileNum):\n",
    "    wavelength = all_data[0][fileNum]\n",
    "    flux = all_data[1][fileNum]\n",
    "    variance = all_data[2][fileNum]\n",
    "    tr_zlog = all_data[3]\n",
    "    \n",
    "    plt.plot(wavelength, flux)\n",
    "    plt.show()\n",
    "    \n",
    "    tempData = [[0],[0],[0]]\n",
    "    for i in range(len(wavelength)):\n",
    "        if not isnan(flux[i]):\n",
    "            tempData[0].append(wavelength[i])\n",
    "            tempData[1].append(flux[i])\n",
    "            tempData[2].append(np.sqrt(variance[i]))\n",
    "\n",
    "    tempData[0].pop(0)\n",
    "    tempData[1].pop(0)\n",
    "    tempData[2].pop(0)\n",
    "\n",
    "    if len(tempData[1]) < 2:\n",
    "        return [[0], 0, 0, 0]\n",
    "      \n",
    "    tempData.append(tr_zlog)\n",
    "    \n",
    "    return tempData\n",
    "    \n",
    "    \n",
    "\n",
    "#Step 12: Go through every single item in a file and compute the fit parameters\n",
    "def allTogetherNow(fits_file, zlog_file):\n",
    "    \n",
    "    #all_data = MMTDataImport(fits_file, zlog_file)\n",
    "    all_data = AATDataImport(fits_file, zlog_file)\n",
    "    \n",
    "    allObsFits = []\n",
    "    for i in range(300):\n",
    "        #print \"Filenum: \" + str(i)\n",
    "        \n",
    "        #file_data = MMTDataClean(all_data, i)\n",
    "        file_data = AATDataClean(all_data, i)\n",
    "        \n",
    "        if file_data[0][0] == 0:\n",
    "            allObsFits.append([[[0],0,-1,[0,0,0]]])\n",
    "        else:\n",
    "            allObsFits.append(fitPeakDips(i, file_data[0], file_data[1], file_data[2], file_data[3]))\n",
    "        \n",
    "        #allObsFits.append(fitPeakDips(i, tr_data0[i], tr_data1[i], tr_data2[i], tr_zlog))\n",
    "        #print \"\"\n",
    "        \n",
    "    return allObsFits"
   ]
  },
  {
   "cell_type": "code",
   "execution_count": 71,
   "metadata": {
    "collapsed": false
   },
   "outputs": [],
   "source": [
    "#Step 13: Do an easy classification scheme, just by summing up the peaks. Not statistically valid, but mostly works\n",
    "def easyClassification(obj_fits):\n",
    "    sumA = 0\n",
    "    if obj_fits[0][0][0] == 0:\n",
    "        return 0\n",
    "    if obj_fits[0][0][0] == -1:\n",
    "        return -1\n",
    "    for line in obj_fits:\n",
    "        if not(line[2][1][0] < 0 and line [2][1][1] > 0):\n",
    "            sumA += line[0][1]\n",
    "    return sumA\n",
    "\n",
    "#A slightly more complex method, by taking the area of each peak.\n",
    "def medClassification(obj_fits):\n",
    "    intA = 0\n",
    "    if obj_fits[0][0][0] == 0:\n",
    "        return 0\n",
    "    if obj_fits[0][0][0] == -1:\n",
    "        return -1\n",
    "    for line in obj_fits:\n",
    "        #print line[2][1] #VERY USEFUL FOR DEBUG PURPOSES!\n",
    "        if not (line[2][1][0] < 0 and line [2][1][1] > 0):\n",
    "            #print \"good line\"\n",
    "            intA += np.sqrt(2) * line[0][1] * np.abs(line[0][0]) * np.sqrt(np.pi)\n",
    "    return intA\n",
    "\n",
    "def hardClassification(obj_fits, trainNum, emiNum, absNum):\n",
    "    if len(obj_fits) == 1:\n",
    "        if obj_fits[0][0][0] == 0:\n",
    "            return -5\n",
    "        if obj_fits[0][0][0] == -1:\n",
    "            return 1\n",
    "    \n",
    "    emiTrue = True\n",
    "    mixFlag = False\n",
    "    \n",
    "    trainSet = obj_fits[:trainNum]\n",
    "    emiSet = obj_fits[trainNum:trainNum + emiNum]\n",
    "    absSet = obj_fits[trainNum+emiNum:trainNum + emiNum + absNum]\n",
    "    \n",
    "    trainEmi = False\n",
    "    trainAbs = False\n",
    "    goodTrain = False\n",
    "    \n",
    "    emiMix = False\n",
    "    absMix = False\n",
    "    \n",
    "    emiEmi = False\n",
    "    absAbs = False\n",
    "    \n",
    "    if obj_fits[4] < 0.00266: #Less than 800 km/sec\n",
    "        return 6\n",
    "    \n",
    "    for line in trainSet:\n",
    "        if (not (line[2][1][0] < 0 and line[2][1][1] > 0) and line[0][0] > 0.75):\n",
    "            goodTrain = True\n",
    "            if line[0][1] > 0:\n",
    "                trainEmi = True\n",
    "            if line[0][1] < 0:\n",
    "                trainAbs = True\n",
    "                \n",
    "    for line in emiSet:\n",
    "        if (not (line[2][1][0] < 0 and line[2][1][1] > 0) and line[0][0] > 0.75):\n",
    "            if line[0][1] < 0:\n",
    "                emiMix = True\n",
    "            if line[0][1] != -1:\n",
    "                emiEmi = True\n",
    "                \n",
    "    for line in absSet:\n",
    "        if (not (line[2][1][0] < 0 and line[2][1][1] > 0) and line[0][0] > 0.75):\n",
    "            if line[0][1] > 0:\n",
    "                absMix = True\n",
    "            if line[0][1] != -1:\n",
    "                absAbs = True\n",
    "\n",
    "    \n",
    "    if trainAbs:\n",
    "        if absMix:\n",
    "            return -5\n",
    "        elif absAbs:\n",
    "            return 6\n",
    "        return 6\n",
    "    \n",
    "    elif trainEmi:\n",
    "        if emiMix:\n",
    "            return -5\n",
    "        elif emiEmi:\n",
    "            return 5\n",
    "        return 5\n",
    "\n",
    "    else:\n",
    "        if absAbs and not absMix:\n",
    "            return 6\n",
    "        elif emiEmi and not emiMix:\n",
    "            return 5\n",
    "        else:\n",
    "            return -5\n",
    "            \n",
    "def allClassified2(allObsFits):\n",
    "    classifications = []\n",
    "    #I apologize to all my past and future CS teachers for this montrosity of an array. Please forgive me.\n",
    "    for i in range(len(allObsFits)):\n",
    "        classifications.append(hardClassification(allObsFits[i], allObsFits[i][-1][3][0], allObsFits[i][-1][3][1], allObsFits[i][-1][3][2]))\n",
    "    return classifications\n",
    "    \n",
    "def allClassified(allObsFits):\n",
    "    classifications = []\n",
    "    for i in range(len(allObsFits)):\n",
    "        #print \"fileNum:      \" + str(i)\n",
    "        sumA = easyClassification(allObsFits[i])\n",
    "        intA = medClassification(allObsFits[i])\n",
    "        #print \"summed A:     \" + str(sumA)\n",
    "        #print \"integrated A: \" + str(intA)\n",
    "        #print \"\"\n",
    "        if ((sumA < 0 and intA > 0) or (sumA > 0 and intA < 0)):\n",
    "            classifications.append(-5)\n",
    "        elif(intA < 20 and intA > -1):\n",
    "            classifications.append(-5)\n",
    "        elif intA == -1:\n",
    "            classifications.append(1)\n",
    "        elif intA > 0:\n",
    "            classifications.append(5)\n",
    "        elif intA < 0:\n",
    "            classifications.append(6)\n",
    "        else:\n",
    "            classifications.append(-5)\n",
    "    return classifications"
   ]
  },
  {
   "cell_type": "code",
   "execution_count": 40,
   "metadata": {
    "collapsed": false
   },
   "outputs": [
    {
     "name": "stdout",
     "output_type": "stream",
     "text": [
      "[[array([  2.16651762e+00,   9.89846846e+02,   6.79811808e+03,\n",
      "         4.71372226e+02]), 0.28463680891288118, [[1.9006807920136308, 2.4323544574487017], [849.20470906633682, 1130.4889821236204], [6797.9115868001145, 6798.3245804362768], [461.3968704692814, 481.34758241781418]]], [[-1, -1, -1, -1], -1, [[-1, 1], [-1, 1], [-1, 1], [-1, 1]]], [[-1, -1, -1, -1], -1, [[-1, 1], [-1, 1], [-1, 1], [-1, 1]]], [array([  2.51927102e-01,  -1.04117309e+03,   4.07875287e+03,\n",
      "         9.32005742e+01]), 1.2734087504462623, [[-58259.813053755832, 58260.316907959845], [-771289944.18759966, 771287861.84141088], [-13870.791685151225, 22028.297415825804], [29.831465007721036, 156.56968332957842]]], [[-1, -1, -1, -1], -1, [[-1, 1], [-1, 1], [-1, 1], [-1, 1]]], [[-1, -1, -1, -1], -1, [[-1, 1], [-1, 1], [-1, 1], [-1, 1]]], [[-1, -1, -1, -1], -1, [[-1, 1], [-1, 1], [-1, 1], [-1, 1]], [2, 1, 3]]]\n"
     ]
    }
   ],
   "source": [
    "#print allObsFits[30:40]\n",
    "print allObsFits[0]\n"
   ]
  },
  {
   "cell_type": "code",
   "execution_count": 68,
   "metadata": {
    "collapsed": false
   },
   "outputs": [
    {
     "name": "stdout",
     "output_type": "stream",
     "text": [
      "Dip, GaussConst Exception\n",
      "Dip, GaussConst Exception\n",
      "Dip, GaussConst Exception\n",
      "Dip, GaussConst Exception\n",
      "Peak, GaussConst exception\n",
      "Dip, GaussConst Exception"
     ]
    },
    {
     "name": "stderr",
     "output_type": "stream",
     "text": [
      "C:\\Users\\Chunny\\Anaconda2\\lib\\site-packages\\ipykernel\\__main__.py:57: RuntimeWarning: invalid value encountered in sqrt\n",
      "C:\\Users\\Chunny\\Anaconda2\\lib\\site-packages\\ipykernel\\__main__.py:26: RuntimeWarning: invalid value encountered in sqrt\n"
     ]
    },
    {
     "name": "stdout",
     "output_type": "stream",
     "text": [
      "\n",
      "Dip, GaussConst Exception\n",
      "Peak, GaussConst exception\n",
      "Dip, GaussConst Exception\n",
      "Dip, GaussConst Exception\n",
      "Dip, GaussConst Exception\n",
      "Time to fit 300 obs: 11.923000\n",
      "Time to classify 300 obs: 0.002000\n",
      "[5, 5, 1, 1, 1, 5, -5, 1, 1, -5, 1, 1, 1, 1, 1, -5, 1, 1, 1, 1, 1, 1, 1, 1, 1, 1, -5, -5, 6, 1, 1, 1, 6, 1, 1, 1, 1, 1, 1, 1, 1, 1, 6, -5, 1, 1, 1, 1, 1, -5, -5, 1, 1, -5, 1, 1, 1, 1, 1, 1, -5, 1, 1, 1, 1, 1, 1, 1, 1, 1, -5, 1, 1, 1, 1, 1, 1, 1, 1, 1, 1, 1, 1, 1, 1, 1, 1, 1, 6, 1, 1, 1, 1, 1, 1, 1, 1, 1, 1, -5, 1, 1, 1, 1, 1, 1, 1, 1, 1, 1, 6, 1, 1, 1, 1, 1, 1, 1, 1, 1, 1, 1, -5, 1, 6, 1, 5, 5, 1, 1, 1, -5, 1, 1, 6, 1, 5, -5, 1, 1, 1, 1, 1, 1, 1, 1, 1, 1, 1, -5, 1, 1, 1, 5, 1, 1, 1, 1, 1, 1, 1, 1, 1, 6, 1, 1, 1, 1, 1, 1, 1, 1, 1, 1, -5, 1, 1, 1, -5, 1, -5, 1, 1, 1, 1, 1, 1, 1, 1, 1, 1, 1, 1, 1, 1, -5, 1, 1, 1, -5, 1, 1, 1, -5, 1, -5, 1, 1, 1, 1, 1, 1, -5, 1, 1, 1, 1, 1, -5, 1, 1, 1, 1, 1, 1, 1, 1, 1, -5, 1, 1, 1, 1, 1, 1, 1, -5, 1, 1, 1, 1, 1, 1, 1, 1, 6, 1, 1, 1, -5, 1, 1, 1, 1, 1, 1, 1, 1, 1, 1, 1, 1, 1, 1, 1, -5, 1, 1, -5, 1, 1, 6, 1, 1, 1, 1, 1, 1, 1, 1, 1, 1, 1, 1, 1, -5, 1, -5, 1, 1, 1, 1, 1, 1, 1, 1, 1, -5, -5, -5]\n"
     ]
    }
   ],
   "source": [
    "start = time.time()\n",
    "#allObsFits = allTogetherNow('spHect-2015.0918_1.fits', 'spHect-2015.0918_1.zlog')\n",
    "allObsFits = allTogetherNow('Aeneid_1.fits', 'Aeneid_1.zlog')\n",
    "fitTime = time.time()\n",
    "print \"Time to fit 300 obs: %f\"%(fitTime - start)\n",
    "quickClassification = allClassified(allObsFits)\n",
    "classTime = time.time()\n",
    "print \"Time to classify 300 obs: %f\" %(classTime - fitTime)\n",
    "print quickClassification "
   ]
  },
  {
   "cell_type": "code",
   "execution_count": 72,
   "metadata": {
    "collapsed": false
   },
   "outputs": [
    {
     "name": "stdout",
     "output_type": "stream",
     "text": [
      "[5, 5, 6, -5, -5, 5, -5, -5, 1, -5, 1, 6, -5, -5, 6, -5, 1, -5, -5, -5, 1, -5, -5, -5, -5, 6, -5, -5, 6, -5, -5, 6, 6, -5, 1, -5, 1, 1, -5, -5, -5, -5, 6, -5, 1, -5, 1, -5, -5, -5, -5, -5, -5, -5, 1, 6, -5, 1, 6, 1, -5, -5, -5, 1, -5, -5, -5, -5, 1, -5, -5, 5, -5, -5, -5, 6, 1, -5, -5, -5, 1, -5, -5, 1, -5, 1, -5, -5, 6, -5, -5, 1, -5, -5, -5, -5, 1, 1, -5, -5, -5, -5, -5, -5, 1, 5, -5, -5, -5, -5, 6, -5, -5, -5, 5, 5, -5, 1, -5, -5, 1, 1, -5, 1, 6, 6, 5, -5, -5, -5, -5, -5, -5, -5, 6, 1, 5, -5, -5, 1, -5, 1, 1, -5, -5, 5, -5, -5, -5, -5, -5, -5, -5, -5, -5, 1, 1, 1, 1, 1, -5, 1, -5, 6, -5, 1, 1, -5, -5, 1, -5, 1, -5, 1, -5, 6, 1, 1, -5, -5, -5, 1, -5, 6, 1, -5, -5, -5, -5, 1, -5, 6, 1, -5, -5, -5, -5, -5, 1, -5, -5, -5, 1, -5, 1, -5, 1, -5, 1, 1, -5, -5, -5, 6, 1, -5, -5, -5, -5, -5, -5, 1, 1, -5, -5, 1, -5, -5, -5, -5, -5, -5, 1, 1, -5, -5, -5, -5, 1, 1, 6, 1, -5, 1, -5, 6, -5, -5, -5, -5, -5, -5, -5, 6, -5, -5, 6, -5, -5, -5, 1, -5, 1, -5, 1, -5, 1, -5, -5, -5, 1, 6, -5, -5, 1, 1, 1, 1, 1, 1, 1, 1, 1, -5, 1, -5, 1, -5, 1, 1, -5, 1, 1, 1, -5, -5, -5, -5, -5, -5]\n"
     ]
    }
   ],
   "source": [
    "#print [allObsFits[269]][0]\n",
    "#hardClass = allClassified2([allObsFits[269]])\n",
    "#print allObsFits[280][-1][3][0]\n",
    "hardClass = allClassified2(allObsFits)\n",
    "print hardClass"
   ]
  },
  {
   "cell_type": "code",
   "execution_count": 33,
   "metadata": {
    "collapsed": false
   },
   "outputs": [
    {
     "name": "stdout",
     "output_type": "stream",
     "text": [
      "(array([ 0.04705882,  0.04705882,  0.56470588,  0.28235294,  0.51764706,\n",
      "        0.37647059,  0.47058824,  0.32941176,  0.47058824,  0.28235294,\n",
      "        0.04705882,  0.09411765,  0.18823529,  0.04705882,  0.14117647,\n",
      "        0.        ,  0.04705882,  0.        ,  0.04705882,  0.        ,\n",
      "        0.        ,  0.        ,  0.        ,  0.        ,  0.        ,\n",
      "        0.        ,  0.        ,  0.        ,  0.        ,  0.        ,\n",
      "        0.        ,  0.        ,  0.        ,  0.        ,  0.        ,\n",
      "        0.        ,  0.        ,  0.        ,  0.        ,  0.        ]), array([  0.  ,   0.25,   0.5 ,   0.75,   1.  ,   1.25,   1.5 ,   1.75,\n",
      "         2.  ,   2.25,   2.5 ,   2.75,   3.  ,   3.25,   3.5 ,   3.75,\n",
      "         4.  ,   4.25,   4.5 ,   4.75,   5.  ,   5.25,   5.5 ,   5.75,\n",
      "         6.  ,   6.25,   6.5 ,   6.75,   7.  ,   7.25,   7.5 ,   7.75,\n",
      "         8.  ,   8.25,   8.5 ,   8.75,   9.  ,   9.25,   9.5 ,   9.75,  10.  ]), <a list of 40 Patch objects>)\n"
     ]
    },
    {
     "data": {
      "image/png": "[encoded data removed]",
      "text/plain": [
       "<matplotlib.figure.Figure at 0x7daf080>"
      ]
     },
     "metadata": {},
     "output_type": "display_data"
    }
   ],
   "source": [
    "#Short code to find frequency of sigmas in a single file. \n",
    "allSigma = []\n",
    "for temp in allObsFits:\n",
    "    for line in temp:\n",
    "        if not line[2] == -1:\n",
    "            if not(line[2][1][0] < 0 and line[2][1][1] > 0):\n",
    "                allSigma.append(line[0][0])\n",
    "            \n",
    "samp = plt.hist(allSigma, bins = 40, range =[0, 10], normed = True)\n",
    "plt.xlabel(\"Sigma of gaussian fit (Angstroms)\")\n",
    "plt.ylabel(\"Relative Frequency\")\n",
    "plt.title(\"Distribution of line widths in file\")\n",
    "print samp\n",
    "plt.show()"
   ]
  },
  {
   "cell_type": "markdown",
   "metadata": {},
   "source": [
    "# Everything below here is debug purposes"
   ]
  },
  {
   "cell_type": "code",
   "execution_count": 107,
   "metadata": {
    "collapsed": false,
    "scrolled": false
   },
   "outputs": [
    {
     "data": {
      "image/png": "[encoded data removed]",
      "text/plain": [
       "<matplotlib.figure.Figure at 0xbdf09b0>"
      ]
     },
     "metadata": {},
     "output_type": "display_data"
    }
   ],
   "source": [
    "import itertools\n",
    "test1 = fits.open(DATA_FOLDER + 'Aeneid_1.fits')\n",
    "#test1.info()\n",
    "#print wavelength\n",
    "\n",
    "coord_val = test1[0].header['CRVAL1']\n",
    "increment = test1[0].header['CDELT1']\n",
    "coord_pix = test1[0].header['CRPIX1']\n",
    "axis1_length = test1[0].header['NAXIS1']\n",
    "start_val = coord_val - increment * coord_pix\n",
    "end_val = start_val + increment * axis1_length \n",
    "wavelength = np.arange(start_val, end_val - increment, increment)\n",
    "\n",
    "\n",
    "flux = test1[0].data[6]\n",
    "\n",
    "plt.figure(figsize = (20, 10))\n",
    "plt.title(\"Aeneid_1 - Obj 7 - NO DATA - FLUX ALL NAN\")\n",
    "plt.plot(wavelength, flux, '--')\n",
    "\n",
    "#flux = test1[1].data[0]\n",
    "#plt.plot(wavelength, flux, 'o')\n",
    "plt.show()\n"
   ]
  },
  {
   "cell_type": "code",
   "execution_count": 110,
   "metadata": {
    "collapsed": false
   },
   "outputs": [
    {
     "data": {
      "image/png": "[encoded data removed]",
      "text/plain": [
       "<matplotlib.figure.Figure at 0xb8709b0>"
      ]
     },
     "metadata": {},
     "output_type": "display_data"
    },
    {
     "data": {
      "text/plain": [
       "[0]"
      ]
     },
     "execution_count": 110,
     "metadata": {},
     "output_type": "execute_result"
    },
    {
     "data": {
      "text/plain": [
       "<matplotlib.figure.Figure at 0x144587f0>"
      ]
     },
     "metadata": {},
     "output_type": "display_data"
    },
    {
     "data": {
      "text/plain": [
       "<matplotlib.figure.Figure at 0x14458c18>"
      ]
     },
     "metadata": {},
     "output_type": "display_data"
    },
    {
     "data": {
      "text/plain": [
       "<matplotlib.figure.Figure at 0x16acf198>"
      ]
     },
     "metadata": {},
     "output_type": "display_data"
    },
    {
     "data": {
      "text/plain": [
       "<matplotlib.figure.Figure at 0xbe4ca58>"
      ]
     },
     "metadata": {},
     "output_type": "display_data"
    },
    {
     "data": {
      "text/plain": [
       "<matplotlib.figure.Figure at 0xb6e40f0>"
      ]
     },
     "metadata": {},
     "output_type": "display_data"
    },
    {
     "data": {
      "text/plain": [
       "<matplotlib.figure.Figure at 0x3e7c550>"
      ]
     },
     "metadata": {},
     "output_type": "display_data"
    },
    {
     "data": {
      "text/plain": [
       "<matplotlib.figure.Figure at 0xbee6be0>"
      ]
     },
     "metadata": {},
     "output_type": "display_data"
    },
    {
     "data": {
      "text/plain": [
       "<matplotlib.figure.Figure at 0x8122a20>"
      ]
     },
     "metadata": {},
     "output_type": "display_data"
    },
    {
     "data": {
      "text/plain": [
       "<matplotlib.figure.Figure at 0x169cbe48>"
      ]
     },
     "metadata": {},
     "output_type": "display_data"
    },
    {
     "data": {
      "text/plain": [
       "<matplotlib.figure.Figure at 0xba7ec18>"
      ]
     },
     "metadata": {},
     "output_type": "display_data"
    }
   ],
   "source": [
    "#t1 = time.time()\n",
    "diagnosticsFits('2015.0918_1', 236, AAT = False)\n",
    "#diagnosticsFits('Aeneid_1', 101, AAT = True)\n",
    "\n",
    "#t2 = time.time()\n",
    "#print t2 - t1"
   ]
  },
  {
   "cell_type": "code",
   "execution_count": 75,
   "metadata": {
    "collapsed": false,
    "scrolled": true
   },
   "outputs": [],
   "source": [
    "#This function is for printing out all of the diagnostics for a single object with a single file.\n",
    "#It ought to print/save everything line by line\n",
    "def diagnosticsFits(fitsNum, objNum, AAT = False):\n",
    "    \n",
    "    SHOW_PLOTS = False\n",
    "    SAVE_PLOTS = True\n",
    "    \n",
    "    alpha = 0.05 #2 sigma, 95%\n",
    "    \n",
    "    \n",
    "    if AAT:\n",
    "        zlogFileName = fitsNum + \".zlog\"\n",
    "        fitsFileName = fitsNum + \".fits\"\n",
    "    else:\n",
    "        zlogFileName = 'spHect-' + str(fitsNum) + \".zlog\"\n",
    "        fitsFileName = 'spHect-' + str(fitsNum) + \".fits\"\n",
    "    idName = str(fitsNum) + '_' + str(objNum + 1).zfill(3)\n",
    "    diagnosticFile = DIAG_FOLDER + 'df' + str(idName) + '.dat'\n",
    "    \n",
    "    diagFile = open(diagnosticFile, 'w+')\n",
    "    diagFile.write(\"Diagnostics for Object \" + str(idName) + \"\\n\")\n",
    "    \n",
    "    #try:\n",
    "    #    zlogFile = open(zlogFileName, 'r')\n",
    "    #except IOError:\n",
    "    #    print \"No file found with fitsNum %s\" % fitsNum\n",
    "        \n",
    "    if AAT:\n",
    "        fileData = AATDataClean(AATDataImport(fitsFileName, zlogFileName), objNum)\n",
    "    else:\n",
    "        fileData = MMTDataClean(MMTDataImport(fitsFileName, zlogFileName), objNum)\n",
    "\n",
    "    wavelength = fileData[0]\n",
    "    flux = fileData[1]\n",
    "    sigma = fileData[2]\n",
    "    zlog = fileData[3]\n",
    "    \n",
    "    plt.plot(wavelength, flux)\n",
    "    plt.show()\n",
    "          \n",
    "    #Gets the shifted wavelengths that are still visible\n",
    "    shiftLineInfo = getShiftLines(objNum, zlog)\n",
    "    shiftedLines = shiftLineInfo[0]\n",
    "    diagFile.write(\"Shifted Line Wavelengths: \\n\")\n",
    "    diagFile.write(str(shiftedLines) + \"\\n\")\n",
    "    \n",
    "    collectedFits = []\n",
    "    \n",
    "    #Step 3 - Loop through each of the lines\n",
    "    if len(shiftedLines) == 1 and shiftedLines[0] == -1:\n",
    "        print \"No lines found in this file\"\n",
    "        diagFile.write(\"No lines found in this file\")  \n",
    "    else:\n",
    "        for line in shiftedLines:\n",
    "            if not line == -1:\n",
    "                \n",
    "                #Plots the region that the algorithm searches for the biggest dip in.\n",
    "                lb = convertAngstromToBin(line - 50, wavelength)\n",
    "                rb = convertAngstromToBin(line + 50, wavelength)\n",
    "                plt.figure(figsize=(20,10))\n",
    "                plt.errorbar(wavelength[lb:rb], flux[lb:rb], yerr = sigma[lb:rb], fmt = 'o')\n",
    "                plt.title( \"50 Angstrom Region around Predicted Line %s\"%line )\n",
    "                plt.xlabel( 'Wavelength')\n",
    "                plt.ylabel(\"Flux\")\n",
    "                if SHOW_PLOTS:\n",
    "                    plt.show()\n",
    "                if SAVE_PLOTS:\n",
    "                    plt.savefig(DIAG_FOLDER + \"SearchRegion_\" + str(idName) + \"_Line_\" + str(round(line)) + \".png\")\n",
    "                plt.clf()\n",
    "                \n",
    "                diagFile.write('\\n')\n",
    "                diagFile.write('Information for peak located at ' + str(round(line)) + ' angstroms as follows: \\n')\n",
    "                #Step 4, 5, 6 - get the code location for the peak near the identified line\n",
    "                lineInfo = getPeak(objNum, [wavelength, flux, sigma], zlog, line)\n",
    "                #Step 6.5: Check if the peak is missing or not. Append bad if needed. \n",
    "                if lineInfo[0] == -1:\n",
    "                    diagFile.write(\"No peak found at line \" + str(line))\n",
    "                    collectedFits.append([[-1, -1, -1, -1], -1, [[-1, 1], [-1, 1], [-1, 1], [-1, 1]]])\n",
    "                else:\n",
    "                    #Step 7: Get the range of data as needed\n",
    "                    diagFile.write(\"Found following line info: \\n\" + str(lineInfo) + \"\\n\")\n",
    "                    lineData = getPeakInfo([wavelength, flux, sigma], lineInfo)\n",
    "                    dof = len(lineData[0]) - 4\n",
    "                    \n",
    "                    #Step 8: Get the best theta fit\n",
    "                    theta, covar = get_gauss_theta(lineData)\n",
    "                    \n",
    "                    if theta[0] == -1:\n",
    "                        collectedFits.append([[-1, -1, -1, -1], -1, [[-1, 1], [-1, 1], [-1, 1], [-1, 1]]])\n",
    "                        diagFile.write(\"Unable to find best fit to the Gaussian\")\n",
    "                    else:\n",
    "                        diagFile.write(\"Found following theta parameters: \\n \" + str(theta) + \"\\n\")\n",
    "                        diagFile.write(\"Found following covariance matrix: \\n \" + str(covar) + \"\\n\")\n",
    "                        \n",
    "                        #Step 9: Compute the reduced chi-squared value\n",
    "                        chiSqRed = chiSquaredRed(lineData, theta, dof)\n",
    "                        #Step 10: Compute the 95% confidence interval\n",
    "                        CI = confInterval(theta, covar, alpha, dof)\n",
    "                        #Step 11: Append to big list and repeat.\n",
    "                        \n",
    "                        diagFile.write(\"Found chiSquared-Reduced as: \" + str(chiSqRed) + \"\\n\")\n",
    "                        diagFile.write(\"Found confidence intervals as follows: \" + str(CI) + \"\\n\")\n",
    "                        collectedFits.append([theta, chiSqRed, CI])\n",
    "\n",
    "                        xSpace = np.linspace(lineData[0][0] - 20, lineData[0][-1] + 20)\n",
    "                        ySpace = gaussConst(xSpace, theta[0], theta[1], theta[2], theta[3])\n",
    "                        plt.figure(figsize=(20,10))\n",
    "                        realLB = convertAngstromToBin(lineData[0][0] - 20, wavelength)\n",
    "                        realRB = convertAngstromToBin(lineData[0][-1] + 20, wavelength)\n",
    "                        plt.errorbar(wavelength[realLB:realRB], flux[realLB:realRB], yerr = sigma[realLB:realRB], fmt = 'o', label = 'Region of peak fitting data')\n",
    "                        #plt.errorbar(lineData[0], lineData[1], yerr = lineData[2], fmt = 'o', label = 'Region of peak fitting data')\n",
    "                        plt.plot(xSpace, ySpace, '-', label = \"Gaussian Fit\")\n",
    "                        plt.title(\"GaussianFit_\" + str(idName) + \"_line_\" + str(round(line)))\n",
    "                        plt.xlabel(\"Wavelength\")\n",
    "                        plt.ylabel(\"Flux\")\n",
    "                        plt.legend()\n",
    "                        if SAVE_PLOTS:\n",
    "                            plt.savefig(DIAG_FOLDER + \"GaussianFit_\" + str(idName) + \"_line_\" + str(round(line)) +  \".png\")\n",
    "                        if SHOW_PLOTS:\n",
    "                            plt.show()\n",
    "                        plt.clf()\n",
    "                        \n",
    "        diagFile.write(\"\\n\")\n",
    "        diagFile.write(\"Summed Area:        \" + str(easyClassification(collectedFits)) + \"\\n\")\n",
    "        diagFile.write(\"Integrated Area:    \" + str(medClassification(collectedFits)) + \"\\n\")\n",
    "        diagFile.write(\"Med Classification: \" + str(allClassified([collectedFits])) + \"\\n\")\n",
    "        #diagFile.write(\"Hard Classification:\" + str(allClassified2(collectedFits)) + \"\\n\")\n",
    "                        \n",
    "    diagFile.close()\n",
    "                        \n",
    "    return [0]\n"
   ]
  },
  {
   "cell_type": "markdown",
   "metadata": {},
   "source": [
    "# More rudimentory debug functions follow below"
   ]
  },
  {
   "cell_type": "code",
   "execution_count": 86,
   "metadata": {
    "collapsed": false
   },
   "outputs": [
    {
     "name": "stdout",
     "output_type": "stream",
     "text": [
      "0\n"
     ]
    }
   ],
   "source": [
    "#print allObsFits[13]\n",
    "print medClassification(allObsFits[13])\n",
    "#print getShiftLines(13, tr_zlog)"
   ]
  },
  {
   "cell_type": "code",
   "execution_count": 17,
   "metadata": {
    "collapsed": false,
    "scrolled": false
   },
   "outputs": [],
   "source": [
    "TRAIN_ZLOG = 'spHect-2015.0918_1.zlog'\n",
    "TRAIN_FITS = 'spHect-2015.0918_1.fits'\n",
    "\n",
    "train = fits.open(TRAIN_FITS)\n",
    "f4 = open(TRAIN_ZLOG, 'r')\n",
    "tr_zlog = f4.readlines()\n",
    "\n",
    "tr_data0 = train[0].data #Wavelength - Angstrom\n",
    "tr_data1 = train[1].data #Flux\n",
    "tr_data2 = train[2].data #Inverse Variance!\n",
    "\n"
   ]
  },
  {
   "cell_type": "code",
   "execution_count": 30,
   "metadata": {
    "collapsed": true
   },
   "outputs": [
    {
     "data": {
      "image/png": "[encoded data removed]",
      "text/plain": [
       "<matplotlib.figure.Figure at 0x80bb550>"
      ]
     },
     "metadata": {},
     "output_type": "display_data"
    }
   ],
   "source": [
    "\n",
    "for i in range(len(tr_data2[TESTfileNum])):\n",
    "    if tr_data2[TESTfileNum][i] == 0:\n",
    "        tr_data2[TESTfileNum][i] = 1\n",
    "\n",
    "tr_data2[TESTfileNum] = np.sqrt(1/tr_data2[TESTfileNum])\n",
    "\n",
    "plt.figure(figsize = (20, 10))\n",
    "#print len(tr_data0[TESTfileNum])\n",
    "\n",
    "left = convertAngstromToBin(3700, tr_data0[TESTfileNum])\n",
    "right = convertAngstromToBin(8800, tr_data0[TESTfileNum])\n",
    "\n",
    "#left = convertAngstromToBin(5800, tr_data0)\n",
    "#right = convertAngstromToBin(6100, tr_data0)\n",
    "\n",
    "plt.plot(tr_data0[TESTfileNum][left:right], tr_data1[TESTfileNum][left:right], '--')\n",
    "#plt.plot(tr_data0[1375:1390], tr_data1[1375:1390], 'o')\n",
    "plt.xlabel(\"Wavelength $\\dot{A}$\")\n",
    "plt.ylabel(\"Flux\")\n",
    "plt.title(\"Spectrum of object %s in file 0918_1\"%(TESTfileNum+1))\n",
    "\n",
    "plt.show()"
   ]
  },
  {
   "cell_type": "code",
   "execution_count": 76,
   "metadata": {
    "collapsed": false,
    "scrolled": true
   },
   "outputs": [],
   "source": [
    "def plotFit(fileNum, line, tr_data0, tr_data1, tr_data2):\n",
    "    TRAIN_ZLOG = 'spHect-2015.0918_1.zlog'\n",
    "    TRAIN_FITS = 'spHect-2015.0918_1.fits'\n",
    "\n",
    "    train = fits.open(TRAIN_FITS)\n",
    "    f4 = open(TRAIN_ZLOG, 'r')\n",
    "    tr_zlog = f4.readlines()\n",
    "\n",
    "    tr_data0 = train[0].data #Wavelength - Angstrom\n",
    "    tr_data1 = train[1].data #Flux\n",
    "    tr_data2 = train[2].data #Inverse Variance!\n",
    "    \n",
    "    for spectra in tr_data2:\n",
    "        for i in np.where(spectra == 0)[0]:\n",
    "            spectra[i] = 1\n",
    "    \n",
    "    alpha = 0.05 #For 95% Confidence Interval, ie 2 sigma\n",
    "        \n",
    "    data = [tr_data0[fileNum], tr_data1[fileNum], np.sqrt(1/tr_data2[fileNum])]\n",
    "    \n",
    "    #Plots the region that the algorithm searches for the biggest dip in.\n",
    "    lb = convertAngstromToBin(line - 50, data[0])\n",
    "    rb = convertAngstromToBin(line + 50, data[0])\n",
    "    plt.errorbar(data[0][lb:rb], data[1][lb:rb], yerr = data[2][lb:rb], fmt = 'o')\n",
    "    plt.title( \"50 Angstrom Region around Predicted Line %s\"%line )\n",
    "    plt.xlabel( 'Wavelength')\n",
    "    plt.ylabel(\"Flux\")\n",
    "    plt.show()\n",
    "    plt.clf()\n",
    "    \n",
    "    #Actually do the searching\n",
    "    lineInfo = getPeak(fileNum, data, tr_zlog, line)\n",
    "    lineData = getPeakInfo(data, lineInfo)\n",
    "    \n",
    "    #Fit the gaussian, get the chi-squared and Confidence Interval\n",
    "    dof = len(lineData[0]) - 4\n",
    "    theta, covar = get_gauss_theta(lineData)\n",
    "    chiSqRed = chiSquaredRed(lineData, theta, dof)\n",
    "    CI = confInterval(theta, covar, alpha, dof)\n",
    "\n",
    "    #Two checks: If no peaks were found (lineInfo[0] == -1) and if the covariance matrix is bad (CI[1][0] == -1)\n",
    "    if lineInfo[0] == -1:\n",
    "        print \"No peak found; no fit made\"\n",
    "    else:\n",
    "        if CI[1][0] == -1:\n",
    "            print \"Bad covariance matrix; no results\"\n",
    "        else:\n",
    "            print \"Best fit of A:                          \" + str(theta[1])\n",
    "            print \"95% (2 sigma) Confidence Interval on A: \" + str(CI[1])\n",
    "            \n",
    "            if (CI[1][0] < 0 and CI[1][1] > 0):\n",
    "                print \"Confidence Interval outside of range; predicted bad fit (fit disregarded)\"\n",
    "                \n",
    "            print \"Ratio of sigma to A:                    \" + str(np.abs((CI[1][0] - theta[1]) / (2 * theta[1])))\n",
    "            xSpace = np.linspace(lineData[0][0], lineData[0][-1])\n",
    "            fittedVals = gaussConst(xSpace, theta[0], theta[1], theta[2], theta[3])\n",
    "            plt.title(\"Fitting region overplotted with best fit\")\n",
    "            plt.xlabel(\"Wavelength [Angstrom]\")\n",
    "            plt.ylabel(\"Flux\")\n",
    "\n",
    "            plt.errorbar(lineData[0], lineData[1], yerr = lineData[2], fmt = 'o')\n",
    "            plt.plot(xSpace, fittedVals)\n",
    "    \n"
   ]
  },
  {
   "cell_type": "code",
   "execution_count": 88,
   "metadata": {
    "collapsed": false
   },
   "outputs": [
    {
     "name": "stdout",
     "output_type": "stream",
     "text": [
      "Amplitude of fits\n",
      "[-1, 34.565059304360318, -0.60802800668363699, -1.1220210208695101, 2.5260048742298702, -2.2283900460457642]\n",
      "Shifted lines for this obj\n",
      "[4887.45963321, 5161.27846946, 6378.42451183, 6504.650076440001, 6786.94253991, 7728.02672706]\n"
     ]
    },
    {
     "data": {
      "image/png": "[encoded data removed]",
      "text/plain": [
       "<matplotlib.figure.Figure at 0xd8e3ba8>"
      ]
     },
     "metadata": {},
     "output_type": "display_data"
    },
    {
     "name": "stdout",
     "output_type": "stream",
     "text": [
      "Best fit of A:                          34.5650593044\n",
      "95% (2 sigma) Confidence Interval on A: [-9430.2066661473291, 9499.3367847560512]\n",
      "Confidence Interval outside of range; predicted bad fit (fit disregarded)\n",
      "Ratio of sigma to A:                    136.912418435\n"
     ]
    },
    {
     "data": {
      "image/png": "[encoded data removed]",
      "text/plain": [
       "<matplotlib.figure.Figure at 0xe501ef0>"
      ]
     },
     "metadata": {},
     "output_type": "display_data"
    }
   ],
   "source": [
    "TESTfileNum = 13#CHANGE THIS WHENEVER YOU WANT TO TEST A NEW FILE\n",
    "a = fitPeakDips(TESTfileNum, tr_data0[TESTfileNum], tr_data1[TESTfileNum], tr_data2[TESTfileNum], tr_zlog)\n",
    "#print a\n",
    "print \"Amplitude of fits\"\n",
    "print [row[0][1]for row in a]\n",
    "\n",
    "print \"Shifted lines for this obj\"\n",
    "print getShiftLines(TESTfileNum, tr_zlog)\n",
    "plotFit(TESTfileNum, 5161, tr_data0, tr_data1, tr_data2)\n",
    "\n",
    "#print [row[2][0] for row in a]\n",
    "#print a[0][2][1] #This gives you the range of A in parameter fitting by 95% confidence level.\n",
    "#I think we can use this - if the range is too large for A(ie, negative and positive), then throw out the line - say that there does not exist anything\n",
    "#If it is less than something... more than something... use sigma? unclear.\n",
    "#Then do a weighted majority vote based on A. Or just add up all of the As."
   ]
  },
  {
   "cell_type": "markdown",
   "metadata": {
    "collapsed": false
   },
   "source": [
    "# Current todo:\n",
    "1) Fix the gaussian algorithm for dips. Seems to work for spikes! Very promising - just something in the algorithm - <b>Solved!</b> Remaining problem - 100 Angstrom might be too large of a region to search. Narrow down to 15 angstrom for now.\n",
    "\n",
    "2) Let Geha know about current progress, have working reduced chi-squared, fits include uncertainty in data, calculated <b>Solved!</b>\n",
    "\n",
    "3) Using training set, see if there are patterns in the parameter space. Graph them or something <b> No longer needed! </b>\n",
    "\n",
    "4) Create a better CI code through using bootstrap and chi squared, although also clarify w/ Geha before moving forwards <b> Unclear if still needed?</b>\n",
    "\n",
    "5) Write production code for auto classification <b> Solved! </b>\n",
    "\n",
    "6) Implement smoothing code!!! <b> Uncertain on implementation? </b>\n",
    "\n",
    ".\n",
    "\n",
    "\n",
    "<font size=\"+2\">Known Issues:</font>\n",
    " \n",
    "Breaks when there is really poorly selected data, or when there does not exist data - <b> Solved, using try/except blocks </b>\n",
    "\n",
    "Does not work well when there is poorly smoothed data - <b> NEED HELP - Unclear on how to properly smooth the sigma data? </b>\n",
    "\n",
    "Sometimes, fit will return a negative sigma and a negative A. <b> Unclear on solution? </b>\n",
    "\n",
    "Possibly not working well with different line widths - currently assumes a 10 pixel region. "
   ]
  },
  {
   "cell_type": "code",
   "execution_count": null,
   "metadata": {
    "collapsed": false
   },
   "outputs": [],
   "source": []
  },
  {
   "cell_type": "code",
   "execution_count": null,
   "metadata": {
    "collapsed": false
   },
   "outputs": [],
   "source": []
  },
  {
   "cell_type": "code",
   "execution_count": null,
   "metadata": {
    "collapsed": false
   },
   "outputs": [],
   "source": []
  },
  {
   "cell_type": "code",
   "execution_count": null,
   "metadata": {
    "collapsed": false
   },
   "outputs": [],
   "source": []
  },
  {
   "cell_type": "code",
   "execution_count": null,
   "metadata": {
    "collapsed": false
   },
   "outputs": [],
   "source": []
  },
  {
   "cell_type": "code",
   "execution_count": null,
   "metadata": {
    "collapsed": false
   },
   "outputs": [],
   "source": []
  },
  {
   "cell_type": "code",
   "execution_count": null,
   "metadata": {
    "collapsed": true
   },
   "outputs": [],
   "source": []
  }
 ],
 "metadata": {
  "kernelspec": {
   "display_name": "Python 2",
   "language": "python",
   "name": "python2"
  },
  "language_info": {
   "codemirror_mode": {
    "name": "ipython",
    "version": 2
   },
   "file_extension": ".py",
   "mimetype": "text/x-python",
   "name": "python",
   "nbconvert_exporter": "python",
   "pygments_lexer": "ipython2",
   "version": "2.7.11"
  }
 },
 "nbformat": 4,
 "nbformat_minor": 0
}
